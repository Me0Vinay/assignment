{
 "cells": [
  {
   "cell_type": "code",
   "execution_count": 1,
   "id": "8f1f5a3d-4b94-4049-be07-50c226c2495e",
   "metadata": {},
   "outputs": [],
   "source": [
    "d = {}"
   ]
  },
  {
   "cell_type": "code",
   "execution_count": 2,
   "id": "2af1b558-3f0f-4695-b9c5-cabad41b9e91",
   "metadata": {},
   "outputs": [
    {
     "data": {
      "text/plain": [
       "dict"
      ]
     },
     "execution_count": 2,
     "metadata": {},
     "output_type": "execute_result"
    }
   ],
   "source": [
    "type(d)"
   ]
  },
  {
   "cell_type": "code",
   "execution_count": 3,
   "id": "c02d2635-9c78-4ca0-8074-4694ffa4dfec",
   "metadata": {},
   "outputs": [],
   "source": [
    "d1 = {\"Key\" : \"babe\"}"
   ]
  },
  {
   "cell_type": "code",
   "execution_count": 5,
   "id": "31db5e0a-35cf-4860-9fae-3f0cc556eda7",
   "metadata": {},
   "outputs": [
    {
     "data": {
      "text/plain": [
       "{'Key': 'babe'}"
      ]
     },
     "execution_count": 5,
     "metadata": {},
     "output_type": "execute_result"
    }
   ],
   "source": [
    "d1"
   ]
  },
  {
   "cell_type": "code",
   "execution_count": 6,
   "id": "6c624bfc-1e92-4d2f-91d6-c2da3f55d4ae",
   "metadata": {},
   "outputs": [],
   "source": [
    "d2 = {\"Name\" : \"Vinay\", \"email\" : \"vk@gmail.com\", \"cell nummber\" : 945454554}"
   ]
  },
  {
   "cell_type": "code",
   "execution_count": 7,
   "id": "0ec8d5c5-2c40-4840-b35b-a854227f44ce",
   "metadata": {},
   "outputs": [
    {
     "data": {
      "text/plain": [
       "{'Name': 'Vinay', 'email': 'vk@gmail.com', 'cell nummber': 945454554}"
      ]
     },
     "execution_count": 7,
     "metadata": {},
     "output_type": "execute_result"
    }
   ],
   "source": [
    "d2"
   ]
  },
  {
   "cell_type": "code",
   "execution_count": 10,
   "id": "9eb35489-63c0-49df-a113-3de19382ed52",
   "metadata": {},
   "outputs": [],
   "source": [
    "d3 = {234 : \"nummeric\", \"_wer\" : \"kumar\", True : 154215}"
   ]
  },
  {
   "cell_type": "code",
   "execution_count": 16,
   "id": "7ef9debc-dc95-4950-b818-a371317fde35",
   "metadata": {},
   "outputs": [
    {
     "data": {
      "text/plain": [
       "154215"
      ]
     },
     "execution_count": 16,
     "metadata": {},
     "output_type": "execute_result"
    }
   ],
   "source": [
    "d3[True]"
   ]
  },
  {
   "cell_type": "code",
   "execution_count": 17,
   "id": "6ed07c50-c836-4ade-b334-85d28891d14d",
   "metadata": {},
   "outputs": [
    {
     "data": {
      "text/plain": [
       "154215"
      ]
     },
     "execution_count": 17,
     "metadata": {},
     "output_type": "execute_result"
    }
   ],
   "source": [
    "d3[1]"
   ]
  },
  {
   "cell_type": "code",
   "execution_count": 18,
   "id": "f20a77df-7b56-4879-9f19-6db1da1af637",
   "metadata": {},
   "outputs": [],
   "source": [
    "d4 = {\"Name\" : \"Vinny\", \"Mail id\" : \"vk@gffd\", \"Name\" : \"kr\"}"
   ]
  },
  {
   "cell_type": "code",
   "execution_count": 19,
   "id": "ebab795a-fe49-4a72-b2f5-d7cce7568c53",
   "metadata": {},
   "outputs": [
    {
     "data": {
      "text/plain": [
       "'kr'"
      ]
     },
     "execution_count": 19,
     "metadata": {},
     "output_type": "execute_result"
    }
   ],
   "source": [
    "d4[\"Name\"]"
   ]
  },
  {
   "cell_type": "code",
   "execution_count": 20,
   "id": "73042407-292d-4c5c-9797-1f72471fd5a3",
   "metadata": {},
   "outputs": [],
   "source": [
    "d5 = {\"Company\" : \"PWskills\", \"Course\" : [\"web dev\",\"JAVA\",\"Python\",\"Data Science\"]}"
   ]
  },
  {
   "cell_type": "code",
   "execution_count": 23,
   "id": "fed5edde-e478-44ce-a292-fd32e1c3151f",
   "metadata": {},
   "outputs": [
    {
     "data": {
      "text/plain": [
       "['web dev', 'JAVA', 'Python', 'Data Science']"
      ]
     },
     "execution_count": 23,
     "metadata": {},
     "output_type": "execute_result"
    }
   ],
   "source": [
    "d5[\"Course\"]"
   ]
  },
  {
   "cell_type": "code",
   "execution_count": 25,
   "id": "bfd2b2f5-8eff-4391-944d-68e80b3b4aef",
   "metadata": {},
   "outputs": [
    {
     "data": {
      "text/plain": [
       "['web dev', 'JAVA']"
      ]
     },
     "execution_count": 25,
     "metadata": {},
     "output_type": "execute_result"
    }
   ],
   "source": [
    "d5[\"Course\"][:2]"
   ]
  },
  {
   "cell_type": "code",
   "execution_count": 27,
   "id": "821a21bc-016f-4ab3-9f9d-332ecf2a52b1",
   "metadata": {},
   "outputs": [],
   "source": [
    "d6 = {\"Number\" : [2,3,4,5,6,4,4,3,2,4,2] , \"assignment\" :(2,3,4,455,4,34,43,5,5,5,4,5,53,4,3,43)}"
   ]
  },
  {
   "cell_type": "code",
   "execution_count": 28,
   "id": "80b8f9e2-f847-4bff-b11b-7e93763b76fe",
   "metadata": {},
   "outputs": [
    {
     "data": {
      "text/plain": [
       "(2, 3, 4, 455)"
      ]
     },
     "execution_count": 28,
     "metadata": {},
     "output_type": "execute_result"
    }
   ],
   "source": [
    "d6[\"assignment\"][:4]"
   ]
  },
  {
   "cell_type": "code",
   "execution_count": 31,
   "id": "2b13bb2c-e9a4-40bb-8e06-a549ff4ee00a",
   "metadata": {},
   "outputs": [
    {
     "data": {
      "text/plain": [
       "({'Number': [2, 3, 4, 5, 6, 4, 4, 3, 2, 4, 2],\n",
       "  'assignment': (2, 3, 4, 455, 4, 34, 43, 5, 5, 5, 4, 5, 53, 4, 3, 43)},\n",
       " {'Company': 'PWskills',\n",
       "  'Course': ['web dev', 'JAVA', 'Python', 'Data Science']},\n",
       " {234: 'nummeric', '_wer': 'kumar', True: 154215},\n",
       " {'Name': 'Vinay', 'email': 'vk@gmail.com', 'cell nummber': 945454554},\n",
       " {'Key': 'babe'})"
      ]
     },
     "execution_count": 31,
     "metadata": {},
     "output_type": "execute_result"
    }
   ],
   "source": [
    "d6,d5,d3,d2,d1"
   ]
  },
  {
   "cell_type": "code",
   "execution_count": 36,
   "id": "5c2db789-d7df-4553-a4d4-3e37849890df",
   "metadata": {},
   "outputs": [],
   "source": [
    "d6[\"Mentor\",\"key\"] = [\"Sudhanshu\",\"vinay\",\"Krish\",\"apoorva\"]"
   ]
  },
  {
   "cell_type": "code",
   "execution_count": 37,
   "id": "21d3be67-0118-4d8e-8162-0b4fff8f3e60",
   "metadata": {},
   "outputs": [
    {
     "data": {
      "text/plain": [
       "{'Number': [2, 3, 4, 5, 6, 4, 4, 3, 2, 4, 2],\n",
       " 'assignment': (2, 3, 4, 455, 4, 34, 43, 5, 5, 5, 4, 5, 53, 4, 3, 43),\n",
       " 'Mentor': ['Sudhanshu', 'vinay', 'Krish', 'apoorva'],\n",
       " ('Mentor', 'key'): ['Sudhanshu', 'vinay', 'Krish', 'apoorva']}"
      ]
     },
     "execution_count": 37,
     "metadata": {},
     "output_type": "execute_result"
    }
   ],
   "source": [
    "d6"
   ]
  },
  {
   "cell_type": "code",
   "execution_count": 38,
   "id": "324713fd-a706-448b-9e05-8a782386094c",
   "metadata": {},
   "outputs": [],
   "source": [
    "del d6[\"Number\"]"
   ]
  },
  {
   "cell_type": "code",
   "execution_count": 39,
   "id": "73fbb8db-bcba-4944-9294-a1e3ed690039",
   "metadata": {},
   "outputs": [
    {
     "data": {
      "text/plain": [
       "{'assignment': (2, 3, 4, 455, 4, 34, 43, 5, 5, 5, 4, 5, 53, 4, 3, 43),\n",
       " 'Mentor': ['Sudhanshu', 'vinay', 'Krish', 'apoorva'],\n",
       " ('Mentor', 'key'): ['Sudhanshu', 'vinay', 'Krish', 'apoorva']}"
      ]
     },
     "execution_count": 39,
     "metadata": {},
     "output_type": "execute_result"
    }
   ],
   "source": [
    "d6"
   ]
  },
  {
   "cell_type": "code",
   "execution_count": 41,
   "id": "34fdc2be-8faa-4d4e-b765-83dcdb99c938",
   "metadata": {},
   "outputs": [],
   "source": [
    "del d6[(\"Mentor\",\"key\")]"
   ]
  },
  {
   "cell_type": "code",
   "execution_count": 42,
   "id": "e7e0c97f-d17e-4b43-9f32-b4a825ef3170",
   "metadata": {},
   "outputs": [
    {
     "data": {
      "text/plain": [
       "{'assignment': (2, 3, 4, 455, 4, 34, 43, 5, 5, 5, 4, 5, 53, 4, 3, 43),\n",
       " 'Mentor': ['Sudhanshu', 'vinay', 'Krish', 'apoorva']}"
      ]
     },
     "execution_count": 42,
     "metadata": {},
     "output_type": "execute_result"
    }
   ],
   "source": [
    "d6"
   ]
  },
  {
   "cell_type": "code",
   "execution_count": 44,
   "id": "ad631888-0786-4d2d-958e-517df1c1974f",
   "metadata": {},
   "outputs": [
    {
     "data": {
      "text/plain": [
       "['assignment', 'Mentor']"
      ]
     },
     "execution_count": 44,
     "metadata": {},
     "output_type": "execute_result"
    }
   ],
   "source": [
    "list(d6.keys())"
   ]
  },
  {
   "cell_type": "code",
   "execution_count": 46,
   "id": "9bc7769a-877a-4aae-ba8a-362b1c4568e2",
   "metadata": {},
   "outputs": [
    {
     "data": {
      "text/plain": [
       "[(2, 3, 4, 455, 4, 34, 43, 5, 5, 5, 4, 5, 53, 4, 3, 43),\n",
       " ['Sudhanshu', 'vinay', 'Krish', 'apoorva']]"
      ]
     },
     "execution_count": 46,
     "metadata": {},
     "output_type": "execute_result"
    }
   ],
   "source": [
    "list(d6.values())"
   ]
  },
  {
   "cell_type": "code",
   "execution_count": 47,
   "id": "c6a52979-7eb2-457e-b048-6ef2338ac109",
   "metadata": {},
   "outputs": [
    {
     "data": {
      "text/plain": [
       "[('assignment', (2, 3, 4, 455, 4, 34, 43, 5, 5, 5, 4, 5, 53, 4, 3, 43)),\n",
       " ('Mentor', ['Sudhanshu', 'vinay', 'Krish', 'apoorva'])]"
      ]
     },
     "execution_count": 47,
     "metadata": {},
     "output_type": "execute_result"
    }
   ],
   "source": [
    "list(d6.items())"
   ]
  },
  {
   "cell_type": "code",
   "execution_count": 48,
   "id": "9ec5665b-0c78-4b30-b77a-a0183999029e",
   "metadata": {},
   "outputs": [],
   "source": [
    "## IF ELSE"
   ]
  },
  {
   "cell_type": "code",
   "execution_count": 24,
   "id": "9dddb55e-d176-4a51-bd68-8a1d23191962",
   "metadata": {},
   "outputs": [
    {
     "name": "stdin",
     "output_type": "stream",
     "text": [
      "Enter your marks : 5\n"
     ]
    },
    {
     "name": "stdout",
     "output_type": "stream",
     "text": [
      "You'll be part of A3 Batch\n"
     ]
    }
   ],
   "source": [
    "marks = int(input(\"Enter your marks :\"))\n",
    "if marks >= 80 :\n",
    "    print(\"You're eligible of A0 Batch\")\n",
    "elif marks >= 60 and marks < 80 :\n",
    "    print(\"You'll be part of A1 batch\")\n",
    "elif marks >= 40 and marks < 60 :\n",
    "    print(\"You'll be part of A2 Batch\")\n",
    "else :\n",
    "    print(\"You'll be part of A3 Batch\")"
   ]
  },
  {
   "cell_type": "code",
   "execution_count": 25,
   "id": "5477a091-437e-4cce-9988-3ffa2a103c53",
   "metadata": {},
   "outputs": [
    {
     "data": {
      "text/plain": [
       "int"
      ]
     },
     "execution_count": 25,
     "metadata": {},
     "output_type": "execute_result"
    }
   ],
   "source": [
    "type(marks)"
   ]
  },
  {
   "cell_type": "code",
   "execution_count": 32,
   "id": "4fdc8c34-8535-437e-b1b6-2f9bc6ca7d4f",
   "metadata": {},
   "outputs": [
    {
     "name": "stdin",
     "output_type": "stream",
     "text": [
      "kitne ka hai ?? 56454\n"
     ]
    },
    {
     "name": "stdout",
     "output_type": "stream",
     "text": [
      "bhai bohot mehnga hai , mai ni lerha\n",
      "Bhai ye to soch bhi nahi skta mai\n"
     ]
    }
   ],
   "source": [
    "price = int(input(\"kitne ka hai ??\"))\n",
    "if price > 1000 :\n",
    "    print(\"bhai bohot mehnga hai , mai ni lerha\")\n",
    "    if price >5000 :\n",
    "        print(\"Bhai ye to soch bhi nahi skta mai\")\n",
    "else: \n",
    "    print(\"chori ka maal hai kya ????\")"
   ]
  },
  {
   "cell_type": "code",
   "execution_count": 1,
   "id": "f00b4674-cc3d-421d-9fb8-884a8c50a122",
   "metadata": {},
   "outputs": [],
   "source": [
    "l = [1,2,3,4,5,6,7,8,9]"
   ]
  },
  {
   "cell_type": "code",
   "execution_count": 2,
   "id": "d7bcb3a3-1112-46e5-bbf9-9771ecd6784b",
   "metadata": {},
   "outputs": [
    {
     "data": {
      "text/plain": [
       "2"
      ]
     },
     "execution_count": 2,
     "metadata": {},
     "output_type": "execute_result"
    }
   ],
   "source": [
    "l[0] + 1"
   ]
  },
  {
   "cell_type": "code",
   "execution_count": 4,
   "id": "667b4026-3778-4574-bd93-1f3c4be6b381",
   "metadata": {},
   "outputs": [],
   "source": [
    "l1 = []"
   ]
  },
  {
   "cell_type": "markdown",
   "id": "b21d36b3-b0c6-4600-b5ce-8192940eb102",
   "metadata": {},
   "source": []
  },
  {
   "cell_type": "code",
   "execution_count": 5,
   "id": "0ad0c960-6800-4d62-bf56-01c17abc24d8",
   "metadata": {},
   "outputs": [],
   "source": [
    "l1.append(l[0] + 1)"
   ]
  },
  {
   "cell_type": "code",
   "execution_count": 22,
   "id": "1c8298e7-0f82-49f6-91f5-d3aeb461190d",
   "metadata": {},
   "outputs": [],
   "source": [
    "l2 = []"
   ]
  },
  {
   "cell_type": "code",
   "execution_count": null,
   "id": "1f066d21-f402-4e66-84e4-8b73d860e24c",
   "metadata": {},
   "outputs": [],
   "source": []
  },
  {
   "cell_type": "code",
   "execution_count": 20,
   "id": "18b2b52e-8736-4b56-973f-eceb9edb0660",
   "metadata": {},
   "outputs": [
    {
     "name": "stdout",
     "output_type": "stream",
     "text": [
      "[2, 3, 4, 5, 6, 7, 8, 9, 10]\n"
     ]
    }
   ],
   "source": [
    "for i in l :\n",
    "    l2.append(i+1)\n",
    "\n",
    "print(l2)"
   ]
  },
  {
   "cell_type": "code",
   "execution_count": 23,
   "id": "41c6b4ba-ec7e-4e1d-96e8-950044c62e7d",
   "metadata": {},
   "outputs": [],
   "source": [
    "l = [\"vin\",\"kr\",\"home\",\"pay\",\"Money\"]"
   ]
  },
  {
   "cell_type": "code",
   "execution_count": 24,
   "id": "a268ed5a-2363-4334-8eb0-7449c6a72980",
   "metadata": {},
   "outputs": [
    {
     "name": "stdout",
     "output_type": "stream",
     "text": [
      "['VIN', 'KR', 'HOME', 'PAY', 'MONEY']\n"
     ]
    }
   ],
   "source": [
    "for i in l :\n",
    "    l2.append(i.upper())\n",
    "\n",
    "print(l2)"
   ]
  },
  {
   "cell_type": "code",
   "execution_count": 29,
   "id": "62b7b7b3-29ec-4f39-86bc-1dc35bb6f8ec",
   "metadata": {},
   "outputs": [],
   "source": [
    "l = [1,2,3,4,\"Vin\",\"kumar\",\"abc\",233,434,554,21]"
   ]
  },
  {
   "cell_type": "code",
   "execution_count": 32,
   "id": "378436bf-eb98-46cd-9830-85e6ed4a3ef0",
   "metadata": {},
   "outputs": [],
   "source": [
    "l1 = []\n",
    "l2 = []"
   ]
  },
  {
   "cell_type": "code",
   "execution_count": 33,
   "id": "b6f8716a-e660-4cc6-8722-d630cb1ba44f",
   "metadata": {},
   "outputs": [
    {
     "name": "stdout",
     "output_type": "stream",
     "text": [
      "[1, 2, 3, 4, 233, 434, 554, 21]\n",
      "['Vin', 'kumar', 'abc']\n"
     ]
    }
   ],
   "source": [
    "for i in l :\n",
    "    if type(i) == int or type(i) == float :\n",
    "        l1.append(i)\n",
    "    else :\n",
    "        l2.append(i)\n",
    "        \n",
    "print(l1)\n",
    "print(l2)"
   ]
  },
  {
   "cell_type": "code",
   "execution_count": null,
   "id": "a0670f18-af42-4f09-9a73-cd6fd81deb4c",
   "metadata": {},
   "outputs": [],
   "source": []
  }
 ],
 "metadata": {
  "kernelspec": {
   "display_name": "Python 3 (ipykernel)",
   "language": "python",
   "name": "python3"
  },
  "language_info": {
   "codemirror_mode": {
    "name": "ipython",
    "version": 3
   },
   "file_extension": ".py",
   "mimetype": "text/x-python",
   "name": "python",
   "nbconvert_exporter": "python",
   "pygments_lexer": "ipython3",
   "version": "3.10.8"
  }
 },
 "nbformat": 4,
 "nbformat_minor": 5
}
